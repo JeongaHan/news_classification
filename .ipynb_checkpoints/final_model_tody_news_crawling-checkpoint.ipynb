{
 "cells": [
  {
   "cell_type": "code",
   "execution_count": 1,
   "metadata": {},
   "outputs": [],
   "source": [
    "from bs4 import BeautifulSoup\n",
    "import requests\n",
    "import re\n",
    "import pandas as pd"
   ]
  },
  {
   "cell_type": "code",
   "execution_count": 2,
   "metadata": {},
   "outputs": [],
   "source": [
    "sections = ['politics', 'economic', 'social', 'culture', 'world', 'it']"
   ]
  },
  {
   "cell_type": "code",
   "execution_count": 4,
   "metadata": {},
   "outputs": [
    {
     "name": "stdout",
     "output_type": "stream",
     "text": [
      "                                        title  category\n",
      "0           통합36.5% 민주 33.4%…부동산이 불러온 4년만의 역전  politics\n",
      "1  36.5% vs 33.4%...통합당, 朴탄핵 후 처음 민주당 지지도 제쳤다  politics\n",
      "2       통합 지지율 36.5% vs 민주 33.4%…朴 탄핵 이후 첫 역전  politics\n",
      "3   통합당, 민주당 지지도 앞질렀다···2016년 탄핵 이후 처음 [리얼미터]  politics\n",
      "4             김종인 “선거 앞두고는 추경하더니..수해복구 추경 해야”  politics\n",
      "                                               title  category\n",
      "0                        내일은 택배없는 날… 오늘 주문하면 언제 받아볼까  economic\n",
      "1                     \"14일엔 택배 없어요\"…대형 택배사·우체국 배송 중단  economic\n",
      "2  [영상] '택배 없는 날' 14~16일 국내택배 일괄중단…쿠팡·SSG닷컴·마켓컬리 ...  economic\n",
      "3                  내일은 ‘택배 없는 날’…일부 17일 재개 후 물량집중 우려  economic\n",
      "4  삼성전자, '업계 최초' 7나노 EUV 시스템반도체에 3차원 적층 기술 적용…\"면적...  economic\n",
      "                                               title category\n",
      "0           신규확진 56명중 지역발생 47명 41일만에 최다…수도권감염 비상(종합)   social\n",
      "1                  [속보] 코로나19 신규 확진자 56명…서울·경기서만 41명   social\n",
      "2  [속보] \"코로나19  국내 지역발생 신규확진자 47명 급증, 서울·경기 집중......   social\n",
      "3                    [종합] 코로나19 신규 확진 56명...41일만에 최다   social\n",
      "4                          서울시, 광복절 집회들에 '집회금지' 행정명령   social\n",
      "                                          title category\n",
      "0        [리뷰] 아반떼 N라인 실내 보니...‘드라이브모드’ 버튼 파격 배치  culture\n",
      "1        \"11년 만에 나왔다\"…올뉴 아반떼 하이브리드, 연비 21.1km/ℓ  culture\n",
      "2             현대차, 아반떼에 하이브리드·N 라인 추가…2100만원대부터  culture\n",
      "3     '역대급 아반떼'가 더 강화됐다···현대차, 하이브리드·N 라인 모델 출시  culture\n",
      "4  “1000만원 할인”…볼보코리아, 한정판 XC90·XC60 T8 R-디자인 출시  culture\n",
      "                                    title category\n",
      "0      유리천장 또 깼다… 해리스, 美 첫 흑인여성 부통령 후보 낙점    world\n",
      "1  바이든-해리스 첫 출격…\"엉망인 미국 재건할 것\" 트럼프 맹공(종합)    world\n",
      "2        '해리스 등판' 불붙은 미 대선…바이든·트럼프 비방전 가열    world\n",
      "3         \"미국, 새 리더십 원한다\" 바이든·해리스 첫 공개 연설    world\n",
      "4              “메르스 백신 살짝 바꿔 코로나 백신 만들었다”    world\n",
      "                                            title category\n",
      "0  엔씨소프트, 2분기 매출 5386억원… 리니지M·2M서만 3570억원 벌었다(상보)       it\n",
      "1            리니지 IP로만 4200억 벌었다…엔씨 2조 클럽 '눈앞'(종합)       it\n",
      "2                    [종합]'리니지2M' 주춤…하반기 반등 예고한 엔씨       it\n",
      "3                 엔씨소프트 2Q 영업익 2090억…전년比 61%↑(상보)       it\n",
      "4                삼성, '갤럭시탭S7' 18일 사전판매...82만9400원       it\n"
     ]
    }
   ],
   "source": [
    "df_titles = pd.DataFrame()\n",
    "df_section_titles = pd.DataFrame()\n",
    "for i in range(100,106):\n",
    "    url = \"https://news.naver.com/main/main.nhn?mode=LSD&mid=shm&sid1=\" + str(i)\n",
    "    resp = requests.get(url)\n",
    "    soup = BeautifulSoup(resp.text, 'html.parser')\n",
    "    title_tags = soup.select(\".cluster_text_headline\")\n",
    "    titles = []\n",
    "    for title_tag in title_tags:\n",
    "      titles.append(re.findall('^(.*)', title_tag.text)[0])\n",
    "    df_section_titles = pd.DataFrame(titles,columns=['title'])\n",
    "    df_section_titles['category'] = sections[i-100]\n",
    "    print(df_section_titles.head())\n",
    "\n",
    "    df_titles = pd.concat([df_titles, df_section_titles], axis=0,\n",
    "                          ignore_index=True)\n",
    "\n",
    "df_titles.to_csv('today_news_titles.csv')"
   ]
  },
  {
   "cell_type": "code",
   "execution_count": 5,
   "metadata": {},
   "outputs": [
    {
     "name": "stdout",
     "output_type": "stream",
     "text": [
      "                                                title  category\n",
      "0                   통합36.5% 민주 33.4%…부동산이 불러온 4년만의 역전  politics\n",
      "1          36.5% vs 33.4%...통합당, 朴탄핵 후 처음 민주당 지지도 제쳤다  politics\n",
      "2               통합 지지율 36.5% vs 민주 33.4%…朴 탄핵 이후 첫 역전  politics\n",
      "3           통합당, 민주당 지지도 앞질렀다···2016년 탄핵 이후 처음 [리얼미터]  politics\n",
      "4                     김종인 “선거 앞두고는 추경하더니..수해복구 추경 해야”  politics\n",
      "5                   김종인 \"선거 땐 추경하자더니…수해복구 추경은 왜 거부하나\"  politics\n",
      "6                     김종인 \"정부·여당, 선거땐 추경하더니 수해엔 거부하나\"  politics\n",
      "7                  김종인 “정부·여당 수해복구 추경 거부 납득 못해…추경 요구”  politics\n",
      "8                      美매체 “北영변 인근 구룡강 범람…핵시설 손상 가능성”  politics\n",
      "9                   [속보] 美 매체 \"北영변 구룡강 범람…핵시설 손상 가능성\"  politics\n",
      "10                   38노스 \"북한 구룡강 범람으로 영변 핵시설 일부 침수돼\"  politics\n",
      "11                 \"北홍수로 구룡강 범람, 영변 핵단지 손상된듯\" 위성사진 공개  politics\n",
      "12                 분홍색 고무장갑, 목엔 수건…김정숙 여사 '몰래 봉사' B컷들  politics\n",
      "13       영부인이 왜 거기서 나와…수해현장 깜짝 방문한 김정숙 여사 봉사 현장 B컷 공개  politics\n",
      "14                      땀범벅 된 머리에 고무장갑…주민도 몰라본 김정숙 여사  politics\n",
      "15                 고무장갑·몸빼 입고…주민 포착한 김정숙 여사 ‘몰래봉사’ 현장  politics\n",
      "16                     조국 “김웅, 초선이 벌써부터…내 아파트 재건축은 왜”  politics\n",
      "17                 조국 \"김웅, 초선이 벌써 구태의연… '기승전 조국' 멈춰라\"  politics\n",
      "18            조국 “김웅, ‘기승전 조국’ 그만해…내 아파트 재건축에 관여 안했다”  politics\n",
      "19      [종합] 김웅 \"재건축이 적폐면 조국은 뭐냐\" 조국 \"초선이 벌써 노이즈 마케팅\"  politics\n",
      "20                '다주택자 종부세 강화' 두고 찬반 여론 '47.5%' 로 팽팽  politics\n",
      "21           \"다주택자 종부세 강화 찬성 47.5% vs 반대 47.5%\"[리얼미터]  politics\n",
      "22                47.5% vs 47.5%… 다주택자 종부세 강화 찬반 '팽팽'  politics\n",
      "23                      찬성 많았던 `다주택자 종부세 강화` 여론, 지금은…  politics\n",
      "24                           與, 지지율 역전에 당혹..\"수해복구 우선\"  politics\n",
      "25                        김태년 \"정기국회 우선순위는 수해복구 예산 편성\"  politics\n",
      "26            與 \"예비비 총동원·재난 대응 매뉴얼 재작성\"…수해 복구 총력전(종합)  politics\n",
      "27                    김태년 “기후 위기 대응 위한 재난 대응 매뉴얼 재작성”  politics\n",
      "28                      안철수, 정부·여당에 \"벼락부자된 졸부의 교만\" 일침  politics\n",
      "29                  안철수 \"文 왜곡된 현실인식, 집권세력 집단최면으로 이어져\"  politics\n",
      "..                                                ...       ...\n",
      "118                    \"트럼프, 11월 대선 후 국방장관 교체 은밀히 논의\"     world\n",
      "119       '예스맨' 에스퍼 美국방 경질되나···\"트럼프, 대선 후 장관 교체 할 수도\"     world\n",
      "120                   베이루트 폭발 피해액 17조 원…\"병원 절반 기능 못해\"     world\n",
      "121                    레바논 대통령 \"베이루트 폭발 피해액 17조원 넘는다\"     world\n",
      "122            [외신브리핑] 트럼프, 방위비 압박할 만 하네…美 재정적자 사상 최대     world\n",
      "123                \"운전사 정직원 대우하라\" 판결에 우버, \"서비스 잠정 중단\"     world\n",
      "124  [글로벌 돋보기] 일본 ‘확산세’·미국 ‘재유행’·유럽 ‘불안’…사망 통계로 본 코로나     world\n",
      "125     [글로벌 돋보기] ‘인화물질 폭발 추정’ 베이루트 참사에 트럼프 “끔찍한 공격”?     world\n",
      "126      [글로벌 돋보기] ‘마법 백신 없다’ 경고에도 부자 나라 28억 회분 ‘싹쓸이’     world\n",
      "127        [글로벌 돋보기] 오키나와 “병실 없어 집으로”…日 대도시 넘어 제2의 확산     world\n",
      "128    엔씨소프트, 2분기 매출 5386억원… 리니지M·2M서만 3570억원 벌었다(상보)        it\n",
      "129              리니지 IP로만 4200억 벌었다…엔씨 2조 클럽 '눈앞'(종합)        it\n",
      "130                      [종합]'리니지2M' 주춤…하반기 반등 예고한 엔씨        it\n",
      "131                   엔씨소프트 2Q 영업익 2090억…전년比 61%↑(상보)        it\n",
      "132                  삼성, '갤럭시탭S7' 18일 사전판매...82만9400원        it\n",
      "133             \"이번엔 태블릿\" 삼성 갤탭S7, 18일부터 예판…가격은 82만부터        it\n",
      "134                   펄어비스, 2Q 영업이익 506억…전년대비 2.3% 감소        it\n",
      "135           [종합]펄어비스 2분기 영업익 506억 '전망치 상회'…자체 IP의 힘        it\n",
      "136                   KT, 혁신벤처 14곳 사업화 지원…기업당 최대 5천만원        it\n",
      "137                           KT, 벤처와 함께 5G 융합신사업 만든다        it\n",
      "138                 MS도 내달 폴더블폰 ‘서피스듀오’ 출시… 가격은 166만원        it\n",
      "139                   MS도 폴더블폰 ‘서피스 듀오’ 내놨다…가격 1399달러        it\n",
      "140      [PLAY IT] \"20분마다 방역\" 언택트 시대 삼성전자의 체험형 매장 운영법        it\n",
      "141         [PLAY IT] \"몸에 좋은 시계는 안 예쁘다?\"…'갤럭시워치3' 차보니        it\n",
      "142            [PLAY IT] \"눈과 귀가 즐겁다\"…'갤럭시버즈라이브'로 들어보니        it\n",
      "143            [PLAY IT] 펜은 부드럽고 카메라는 높다…갤노트20울트라 써보니        it\n",
      "144                 [아하! 우주] 왜소행성 세레스 지하에 숨겨진 ‘바다’ 있다        it\n",
      "145          [아하! 우주] 화성 도착한지 어언 8주년…큐리오시티가 촬영한 명작 사진        it\n",
      "146           [아하! 우주] 시민 과학자가 찾아낸 100억 살 된 갈색왜성 (연구)        it\n",
      "147            [아하! 우주] 화성 생명체 찾는 미 탐사 로버 '퍼시비어런스' 발사        it\n",
      "\n",
      "[148 rows x 2 columns]\n"
     ]
    }
   ],
   "source": [
    "print(df_titles)"
   ]
  }
 ],
 "metadata": {
  "kernelspec": {
   "display_name": "Python 3",
   "language": "python",
   "name": "python3"
  },
  "language_info": {
   "codemirror_mode": {
    "name": "ipython",
    "version": 3
   },
   "file_extension": ".py",
   "mimetype": "text/x-python",
   "name": "python",
   "nbconvert_exporter": "python",
   "pygments_lexer": "ipython3",
   "version": "3.7.7"
  }
 },
 "nbformat": 4,
 "nbformat_minor": 4
}
