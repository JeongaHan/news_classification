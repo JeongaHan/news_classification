{
 "cells": [
  {
   "cell_type": "code",
   "execution_count": 1,
   "metadata": {},
   "outputs": [],
   "source": [
    "from bs4 import BeautifulSoup\n",
    "import requests\n",
    "import re\n",
    "import pandas as pd"
   ]
  },
  {
   "cell_type": "code",
   "execution_count": 2,
   "metadata": {},
   "outputs": [],
   "source": [
    "sections = ['politics', 'economic', 'social', 'culture', 'world', 'it']"
   ]
  },
  {
   "cell_type": "code",
   "execution_count": 4,
   "metadata": {},
   "outputs": [
    {
     "name": "stdout",
     "output_type": "stream",
     "text": [
      "                                         title  category\n",
      "0           [단독]우원식 \"김조원 가정사 이해하라고?\" 페북 올렸다 삭제  politics\n",
      "1             박성중이 공개한 '다주택' 김조원 가정사 \"재혼도 했고…\"  politics\n",
      "2           김조원 사퇴 여진…\"재혼 사정\" \"공직자 처신 부적절\"(종합)  politics\n",
      "3   김조원 군대 동기 박성중 “부인하고 관계가… 재혼도 했고 여러 문제 있더라”  politics\n",
      "4  수해 현장 간 文 “방문 자체가 격려…특별재난지역, 읍면동 단위 검토”(종합)  politics\n",
      "                                               title  category\n",
      "0                      정부, 시세 교란 '부동산 유튜버' 특별점검 들어간다  economic\n",
      "1                 부동산 카페·유튜브까지···정부, ‘내사·형사입건 조치’ 한다  economic\n",
      "2                             홍남기 \"부동산 정책 흔들림 없이 간다\"  economic\n",
      "3  [종합]홍남기 \"고가주택 이상거래 다수 발견...수도권.세종, 경찰청 국세청 조사 강화\"  economic\n",
      "4                KB금융, 차기 회장 레이스 시작… 윤종규, '3연임' 성공할까  economic\n",
      "                                    title category\n",
      "0      '목포 불법 투기' 손혜원 1년 6개월 실형, 법정구속은 면해   social\n",
      "1  [2보] '목포투기 의혹' 손혜원 전 의원, 1심에서 징역 1년6개월   social\n",
      "2      '부동산 차명 의혹' 손혜원 징역 1년 6개월…법정구속은 면해   social\n",
      "3            [종합] '목포투기 의혹' 손혜원, 징역 1년6개월   social\n",
      "4   \"숙명여고 쌍둥이 죄질 안 좋은데 뉘우치지 않는다\" 유죄 선고 이유   social\n",
      "                                   title category\n",
      "0         무너지고 깨지고 유실되고…집중호우로 문화재 47건 피해  culture\n",
      "1       세계유산 봉정사, 명승 소쇄원 등 문화재 47건 장마 피해  culture\n",
      "2  집중호우로 담양 소쇄원등 문화재 47건 피해…기와탈락·누수·담 파손  culture\n",
      "3              집중호우로 인한 문화재 피해 국보 포함 47건  culture\n",
      "4                문체부, 숙박ㆍ문화 할인권 900억원 푼다  culture\n",
      "                                title category\n",
      "0   푸틴 딸도 맞았다는 러시아 백신…\"맹물보다 조금 나은 수준\"    world\n",
      "1       \"러시아 코로나 백신 못 믿겠다\" 국제사회 한 목소리    world\n",
      "2  푸틴이 쏘아올린 '스푸트니크' 백신, 사실은 '러시안 룰렛'?    world\n",
      "3         러시아 백신 등록에 국내 제약·바이오株 동반 하락    world\n",
      "4     바이든 저격수서 부통령 후보…바이든 수첩은 이미 찜했었다    world\n",
      "                               title category\n",
      "0         스마트폰에 운전면허증 넣은 사람 100만명 돌파       it\n",
      "1          모바일 운전면허증, 50일 만에 100만 가입       it\n",
      "2  이통 3사, 패스 모바일운전면허 서비스 가입자 100만 돌파       it\n",
      "3     이통3사 `패스 모바일 운전면허` 가입자 100만 넘어       it\n",
      "4            넷마블, 집중호우 수재민 위해 10억 기부       it\n"
     ]
    }
   ],
   "source": [
    "df_titles = pd.DataFrame()\n",
    "df_section_titles = pd.DataFrame()\n",
    "for i in range(100,106):\n",
    "    url = \"https://news.naver.com/main/main.nhn?mode=LSD&mid=shm&sid1=\" + str(i)\n",
    "    resp = requests.get(url)\n",
    "    soup = BeautifulSoup(resp.text, 'html.parser')\n",
    "    title_tags = soup.select(\".cluster_text_headline\")\n",
    "    titles = []\n",
    "    for title_tag in title_tags:\n",
    "      titles.append(re.findall('^(.*)', title_tag.text)[0])\n",
    "    df_section_titles = pd.DataFrame(titles,columns=['title'])\n",
    "    df_section_titles['category'] = sections[i-100]\n",
    "    print(df_section_titles.head())\n",
    "\n",
    "    df_titles = pd.concat([df_titles, df_section_titles], axis=0,\n",
    "                          ignore_index=True)\n",
    "\n",
    "df_titles.to_csv('val_news.csv')"
   ]
  },
  {
   "cell_type": "code",
   "execution_count": 5,
   "metadata": {},
   "outputs": [
    {
     "name": "stdout",
     "output_type": "stream",
     "text": [
      "                                              title  category\n",
      "0                [단독]우원식 \"김조원 가정사 이해하라고?\" 페북 올렸다 삭제  politics\n",
      "1                  박성중이 공개한 '다주택' 김조원 가정사 \"재혼도 했고…\"  politics\n",
      "2                김조원 사퇴 여진…\"재혼 사정\" \"공직자 처신 부적절\"(종합)  politics\n",
      "3        김조원 군대 동기 박성중 “부인하고 관계가… 재혼도 했고 여러 문제 있더라”  politics\n",
      "4       수해 현장 간 文 “방문 자체가 격려…특별재난지역, 읍면동 단위 검토”(종합)  politics\n",
      "5               문대통령 \"특별재난지역, 시군 단위 안되면 읍면동 단위로 검토\"  politics\n",
      "6                 문 대통령 “특별재난지역, 시군 안 되면 읍면동 지정 검토”  politics\n",
      "7                     文대통령 \"특별재난지역 읍·면·동 단위까지 세부지정\"  politics\n",
      "8                         청와대 입성의 자격 '무주택자 또는 1주택자'  politics\n",
      "9                \"신임수석 둘다 1주택자로 보면 된다\" 다주택 먼저 불 끈 靑  politics\n",
      "10                     靑 수석급 줄교체...키워드는 '1주택' '강원도'  politics\n",
      "11                       노영민 유임 속 靑개편 사실상 마무리…반전 모색  politics\n",
      "12              [단독] '호남에 제2의 지역구를' 통합당, 호남 껴안기 본격화  politics\n",
      "13                  문재인정권 지지율 누수에…통합당, '큰 물그릇' 준비한다  politics\n",
      "14                “호남 소홀 반성” 통합당 국민통합특위 구성…위원장에 정운천  politics\n",
      "15                      통합당, 국민통합특위 구성...\"호남 소홀 반성\"  politics\n",
      "16                      이상돈 \"MB계, 4대강 홍수예방? 완전 사기극\"  politics\n",
      "17             MB계 4대강 재평가 앞장…이재오\"보 없었으면 나라 절반 잠겼다\"  politics\n",
      "18                    권성동 \"홍수가 4대강 탓? 자신있다면 보 폭파해라\"  politics\n",
      "19                         \"'4대강 사업이 홍수 예방했다는 건 궤변\"  politics\n",
      "20               “재정 아직 충분” 재난지원금 2배↑…추경은 추후 판단(종합)  politics\n",
      "21                   당정청 \"재난지원금 2배 상향…4차 추경은 추후 판단\"  politics\n",
      "22                 당정청, 재난지원금 2배로 상향조정하기로…추경은 추후 판단  politics\n",
      "23                       당정청 “재난지원금 2배 상향…추경 추후 판단”  politics\n",
      "24                이호승 경제수석 “부동산 하향안정 이어져…조만간 확인 가능”  politics\n",
      "25   [레이더P] 집값 안정된다는 靑…이호승 경제수석 \"부동산감독기구 상당히 강한 기능\"  politics\n",
      "26              이호승 靑경제수석 \"부동산 시장 반드시 안정…조만간 확인 가능\"  politics\n",
      "27                   靑경제수석 \"집값 반드시 잡힌다… 시장 안정 곧 실감\"  politics\n",
      "28                전술 바꾸는 野…호남 달래고 '대통령 탄핵·구속' 사과 검토  politics\n",
      "29          김종인, 박근혜 탄핵 ·이명박 구속 대국민 사과 검토...당 쇄신 차원  politics\n",
      "..                                              ...       ...\n",
      "118                           WHO \"치과 진료 미뤄라\" 권고…왜?     world\n",
      "119                   WHO \"에어로졸 감염 우려, 치과 진료 연기 권고\"     world\n",
      "120                   日 '이웃나라니까 유명희 지지하는 게 당연? No!'     world\n",
      "121             유명희 \"WTO 현실에 뒤처져 있어…대응력 갖춘 기구 만들 것\"     world\n",
      "122                  BBC가 소개한 강릉 경포해수욕장 3대 방역 노하우는?     world\n",
      "123                           올해 해수욕장 방문객 작년 35% 수준     world\n",
      "124           [시나쿨파]반중 언론사주 구속하자 주가 1100% 끌어올린 홍콩개미     world\n",
      "125                [시나쿨파] 美 총공세에도 中 말폭탄만…반격 안하나 못하나     world\n",
      "126               [시나쿨파]틱톡 금지 과하다? 트위터는 중국에 발도 못붙였다     world\n",
      "127                     [시나쿨파] 싼샤댐 붕괴 괴담, 단순한 괴담일 뿐     world\n",
      "128                      스마트폰에 운전면허증 넣은 사람 100만명 돌파        it\n",
      "129                       모바일 운전면허증, 50일 만에 100만 가입        it\n",
      "130               이통 3사, 패스 모바일운전면허 서비스 가입자 100만 돌파        it\n",
      "131                  이통3사 `패스 모바일 운전면허` 가입자 100만 넘어        it\n",
      "132                         넷마블, 집중호우 수재민 위해 10억 기부        it\n",
      "133               넷마블·코웨이, 집중호우 피해 복구 위해 성금 10억원 지원        it\n",
      "134              전기연구원, 세계 첫 3D프린터 이용 초고화질 디스플레이 개발        it\n",
      "135                            3D프린터로 초고화질 디스플레이 구현        it\n",
      "136                네이버페이 나흘만에 또 '먹통'…3시간 넘도록 시스템 점검        it\n",
      "137                    네이버페이 또 오류…오후 3시부터 서비스 재개 예정        it\n",
      "138                  넷플릭스-KT 제휴에 지상파 \"토종 OTT 지켜달라\"         it\n",
      "139                  방송협회, 믿었던 KT의 배신…넷플릭스 제휴 철회 촉구        it\n",
      "140                  [강석기의 과학카페]벼가 물에 잠겼을 때 일어나는 일들        it\n",
      "141            [강석기의 과학카페]코로나 블루 원인은 어쩌면 전자기기의 파란빛?        it\n",
      "142                   [강석기의 과학카페] 미토콘드리아 게놈 편집 성공했다        it\n",
      "143                 [강석기의 과학카페] 수박 속살은 원래 빨간색이 아니었다        it\n",
      "144              [우주를 보다] 직경 8050㎞…화성 만한 ‘태양 흑점’ 포착        it\n",
      "145          [우주를 보다] ‘천상의 나비’…우주서 날갯짓 하는 행성상 성운 포착        it\n",
      "146          [우주를 보다] 우리 태양계 닮았네…외계 행성계 '가족사진' 첫 포착        it\n",
      "147            [우주를 보다] 태양계서 가장 큰 위성 ‘가니메데’…북극 첫 포착        it\n",
      "\n",
      "[148 rows x 2 columns]\n"
     ]
    }
   ],
   "source": [
    "print(df_titles)"
   ]
  }
 ],
 "metadata": {
  "kernelspec": {
   "display_name": "Python 3",
   "language": "python",
   "name": "python3"
  },
  "language_info": {
   "codemirror_mode": {
    "name": "ipython",
    "version": 3
   },
   "file_extension": ".py",
   "mimetype": "text/x-python",
   "name": "python",
   "nbconvert_exporter": "python",
   "pygments_lexer": "ipython3",
   "version": "3.7.7"
  }
 },
 "nbformat": 4,
 "nbformat_minor": 4
}
